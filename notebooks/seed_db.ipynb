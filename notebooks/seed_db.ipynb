{
 "cells": [
  {
   "cell_type": "code",
   "execution_count": 5,
   "metadata": {},
   "outputs": [],
   "source": [
    "from bipp.lgd.models import Entity, Level, Variation, AdminHierarchy\n",
    "from sqlmodel import Session, create_engine, select, SQLModel\n",
    "import polars as pl\n",
    "import os"
   ]
  },
  {
   "cell_type": "code",
   "execution_count": 6,
   "metadata": {},
   "outputs": [],
   "source": [
    "if os.path.exists(\"./lgd.db\"):\n",
    "    os.remove(\"./lgd.db\")"
   ]
  },
  {
   "cell_type": "code",
   "execution_count": 7,
   "metadata": {},
   "outputs": [],
   "source": [
    "engine = create_engine(\"sqlite:///lgd.db\")\n",
    "SQLModel.metadata.create_all(engine)"
   ]
  },
  {
   "cell_type": "code",
   "execution_count": 8,
   "metadata": {},
   "outputs": [],
   "source": [
    "map2lgd_engine = create_engine(\"sqlite:///lgd_database.db\")\n",
    "map2lgd_conn = map2lgd_engine.connect()\n",
    "states = pl.read_database(query=\"SELECT * FROM states\", connection=map2lgd_conn)\n",
    "districts = pl.read_database(query=\"SELECT * FROM district\", connection=map2lgd_conn)\n",
    "sub_districts = pl.read_database(query=\"SELECT * FROM sub_district\", connection=map2lgd_conn)\n",
    "blocks = pl.read_database(query=\"SELECT * FROM block\", connection=map2lgd_conn)\n",
    "local_bodies = pl.read_database(query=\"SELECT * FROM local_body\", connection=map2lgd_conn)\n",
    "panchayats = pl.read_database(query=\"SELECT * FROM gp\", connection=map2lgd_conn)\n",
    "constituencies = pl.read_database(query=\"SELECT * FROM constituency_data\", connection=map2lgd_conn)\n",
    "villages = pl.read_database(query=\"SELECT * FROM villages\", connection=map2lgd_conn)\n",
    "map2lgd_conn.close()"
   ]
  },
  {
   "cell_type": "code",
   "execution_count": 9,
   "metadata": {},
   "outputs": [
    {
     "name": "stdout",
     "output_type": "stream",
     "text": [
      "villages\n"
     ]
    },
    {
     "data": {
      "text/html": [
       "<div><style>\n",
       ".dataframe > thead > tr,\n",
       ".dataframe > tbody > tr {\n",
       "  text-align: right;\n",
       "  white-space: pre-wrap;\n",
       "}\n",
       "</style>\n",
       "<small>shape: (5, 21)</small><table border=\"1\" class=\"dataframe\"><thead><tr><th>id</th><th>stateCode</th><th>stateNameEnglish</th><th>districtCode</th><th>districtNameEnglish</th><th>subDistrictCode</th><th>subDistrictNameEnglish</th><th>blockCode</th><th>blockNameEnglish</th><th>localBodyCode</th><th>localBodyTypeCode</th><th>localBodyNameEnglish</th><th>villageCode</th><th>villageNameEnglish</th><th>villageStatus</th><th>dataHash</th><th>local_body_type</th><th>parliament_constituency</th><th>assembly_constituency</th><th>entityNameVariants</th><th>entityParent</th></tr><tr><td>i64</td><td>i64</td><td>str</td><td>i64</td><td>str</td><td>i64</td><td>str</td><td>i64</td><td>str</td><td>i64</td><td>i64</td><td>str</td><td>i64</td><td>str</td><td>str</td><td>str</td><td>str</td><td>str</td><td>str</td><td>null</td><td>str</td></tr></thead><tbody><tr><td>-111111111</td><td>0</td><td>&quot;Not Avaliable&quot;</td><td>0</td><td>&quot;Not Avaliable&quot;</td><td>0</td><td>&quot;Not Avaliable&quot;</td><td>0</td><td>&quot;Not Avaliable&quot;</td><td>0</td><td>0</td><td>&quot;Not Avaliable&quot;</td><td>0</td><td>&quot;Not Avaliable&quot;</td><td>&quot;I&quot;</td><td>&quot;1&quot;</td><td>&quot;Not Avaliable&quot;</td><td>&quot;Not Avaliable&quot;</td><td>&quot;Not Avaliable&quot;</td><td>null</td><td>&quot;0&quot;</td></tr><tr><td>1</td><td>1</td><td>&quot;JAMMU AND KASH…</td><td>8</td><td>&quot;KUPWARA&quot;</td><td>1</td><td>&quot;Kupwara&quot;</td><td>6998</td><td>&quot;Hayhama&quot;</td><td>239712</td><td>3</td><td>&quot;Zangali&quot;</td><td>52</td><td>&quot;Zangli Kashera…</td><td>&quot;I&quot;</td><td>&quot;1&quot;</td><td>&quot;Village Pancha…</td><td>&quot;Baramulla&quot;</td><td>&quot;Lolab&quot;</td><td>null</td><td>null</td></tr><tr><td>2</td><td>1</td><td>&quot;JAMMU AND KASH…</td><td>8</td><td>&quot;KUPWARA&quot;</td><td>1</td><td>&quot;Kupwara&quot;</td><td>6998</td><td>&quot;Hayhama&quot;</td><td>288853</td><td>3</td><td>&quot;KASHIRA&quot;</td><td>52</td><td>&quot;Zangli Kashera…</td><td>&quot;I&quot;</td><td>&quot;1&quot;</td><td>&quot;Village Pancha…</td><td>&quot;Baramulla&quot;</td><td>&quot;Lolab&quot;</td><td>null</td><td>null</td></tr><tr><td>3</td><td>1</td><td>&quot;JAMMU AND KASH…</td><td>8</td><td>&quot;KUPWARA&quot;</td><td>1</td><td>&quot;Kupwara&quot;</td><td>6998</td><td>&quot;Hayhama&quot;</td><td>239712</td><td>3</td><td>&quot;Zangali&quot;</td><td>52</td><td>&quot;Zangli Kashera…</td><td>&quot;I&quot;</td><td>&quot;1&quot;</td><td>&quot;Village Pancha…</td><td>&quot;Baramulla&quot;</td><td>&quot;Lolab&quot;</td><td>null</td><td>null</td></tr><tr><td>4</td><td>1</td><td>&quot;JAMMU AND KASH…</td><td>8</td><td>&quot;KUPWARA&quot;</td><td>1</td><td>&quot;Kupwara&quot;</td><td>6998</td><td>&quot;Hayhama&quot;</td><td>288853</td><td>3</td><td>&quot;KASHIRA&quot;</td><td>52</td><td>&quot;Zangli Kashera…</td><td>&quot;I&quot;</td><td>&quot;1&quot;</td><td>&quot;Village Pancha…</td><td>&quot;Baramulla&quot;</td><td>&quot;Lolab&quot;</td><td>null</td><td>null</td></tr></tbody></table></div>"
      ],
      "text/plain": [
       "shape: (5, 21)\n",
       "┌───────────┬───────────┬───────────┬───────────┬───┬───────────┬───────────┬───────────┬──────────┐\n",
       "│ id        ┆ stateCode ┆ stateName ┆ districtC ┆ … ┆ parliamen ┆ assembly_ ┆ entityNam ┆ entityPa │\n",
       "│ ---       ┆ ---       ┆ English   ┆ ode       ┆   ┆ t_constit ┆ constitue ┆ eVariants ┆ rent     │\n",
       "│ i64       ┆ i64       ┆ ---       ┆ ---       ┆   ┆ uency     ┆ ncy       ┆ ---       ┆ ---      │\n",
       "│           ┆           ┆ str       ┆ i64       ┆   ┆ ---       ┆ ---       ┆ null      ┆ str      │\n",
       "│           ┆           ┆           ┆           ┆   ┆ str       ┆ str       ┆           ┆          │\n",
       "╞═══════════╪═══════════╪═══════════╪═══════════╪═══╪═══════════╪═══════════╪═══════════╪══════════╡\n",
       "│ -11111111 ┆ 0         ┆ Not       ┆ 0         ┆ … ┆ Not       ┆ Not       ┆ null      ┆ 0        │\n",
       "│ 1         ┆           ┆ Avaliable ┆           ┆   ┆ Avaliable ┆ Avaliable ┆           ┆          │\n",
       "│ 1         ┆ 1         ┆ JAMMU AND ┆ 8         ┆ … ┆ Baramulla ┆ Lolab     ┆ null      ┆ null     │\n",
       "│           ┆           ┆ KASHMIR   ┆           ┆   ┆           ┆           ┆           ┆          │\n",
       "│ 2         ┆ 1         ┆ JAMMU AND ┆ 8         ┆ … ┆ Baramulla ┆ Lolab     ┆ null      ┆ null     │\n",
       "│           ┆           ┆ KASHMIR   ┆           ┆   ┆           ┆           ┆           ┆          │\n",
       "│ 3         ┆ 1         ┆ JAMMU AND ┆ 8         ┆ … ┆ Baramulla ┆ Lolab     ┆ null      ┆ null     │\n",
       "│           ┆           ┆ KASHMIR   ┆           ┆   ┆           ┆           ┆           ┆          │\n",
       "│ 4         ┆ 1         ┆ JAMMU AND ┆ 8         ┆ … ┆ Baramulla ┆ Lolab     ┆ null      ┆ null     │\n",
       "│           ┆           ┆ KASHMIR   ┆           ┆   ┆           ┆           ┆           ┆          │\n",
       "└───────────┴───────────┴───────────┴───────────┴───┴───────────┴───────────┴───────────┴──────────┘"
      ]
     },
     "metadata": {},
     "output_type": "display_data"
    },
    {
     "name": "stdout",
     "output_type": "stream",
     "text": [
      "local_bodies\n"
     ]
    },
    {
     "data": {
      "text/html": [
       "<div><style>\n",
       ".dataframe > thead > tr,\n",
       ".dataframe > tbody > tr {\n",
       "  text-align: right;\n",
       "  white-space: pre-wrap;\n",
       "}\n",
       "</style>\n",
       "<small>shape: (5, 9)</small><table border=\"1\" class=\"dataframe\"><thead><tr><th>entityLGDCode</th><th>entityName</th><th>entitylocalBodyTypeName</th><th>levelCode</th><th>levelName</th><th>entityNameVariants</th><th>entityParent</th><th>entityParentName</th><th>dataHash</th></tr><tr><td>i64</td><td>str</td><td>str</td><td>i64</td><td>str</td><td>str</td><td>str</td><td>str</td><td>str</td></tr></thead><tbody><tr><td>-1111111</td><td>&quot;Not Available&quot;</td><td>&quot;District Panch…</td><td>0</td><td>&quot;Local Body Typ…</td><td>null</td><td>&quot;0&quot;</td><td>&quot;state&quot;</td><td>null</td></tr><tr><td>1</td><td>&quot;ANANTNAG&quot;</td><td>&quot;District Panch…</td><td>-1</td><td>&quot;Local Body Typ…</td><td>&quot;ANANTNAG&quot;</td><td>&quot;1&quot;</td><td>&quot;state&quot;</td><td>&quot;8fdff2d92a6873…</td></tr><tr><td>2</td><td>&quot;BADGAM&quot;</td><td>&quot;District Panch…</td><td>-1</td><td>&quot;Local Body Typ…</td><td>&quot;BADGAM&quot;</td><td>&quot;1&quot;</td><td>&quot;state&quot;</td><td>&quot;8fdff2d92a6873…</td></tr><tr><td>3</td><td>&quot;BARAMULLA&quot;</td><td>&quot;District Panch…</td><td>-1</td><td>&quot;Local Body Typ…</td><td>&quot;BARAMULLA&quot;</td><td>&quot;1&quot;</td><td>&quot;state&quot;</td><td>&quot;8fdff2d92a6873…</td></tr><tr><td>4</td><td>&quot;DODA&quot;</td><td>&quot;District Panch…</td><td>-1</td><td>&quot;Local Body Typ…</td><td>&quot;DODA&quot;</td><td>&quot;1&quot;</td><td>&quot;state&quot;</td><td>&quot;8fdff2d92a6873…</td></tr></tbody></table></div>"
      ],
      "text/plain": [
       "shape: (5, 9)\n",
       "┌───────────┬───────────┬───────────┬───────────┬───┬───────────┬───────────┬───────────┬──────────┐\n",
       "│ entityLGD ┆ entityNam ┆ entityloc ┆ levelCode ┆ … ┆ entityNam ┆ entityPar ┆ entityPar ┆ dataHash │\n",
       "│ Code      ┆ e         ┆ alBodyTyp ┆ ---       ┆   ┆ eVariants ┆ ent       ┆ entName   ┆ ---      │\n",
       "│ ---       ┆ ---       ┆ eName     ┆ i64       ┆   ┆ ---       ┆ ---       ┆ ---       ┆ str      │\n",
       "│ i64       ┆ str       ┆ ---       ┆           ┆   ┆ str       ┆ str       ┆ str       ┆          │\n",
       "│           ┆           ┆ str       ┆           ┆   ┆           ┆           ┆           ┆          │\n",
       "╞═══════════╪═══════════╪═══════════╪═══════════╪═══╪═══════════╪═══════════╪═══════════╪══════════╡\n",
       "│ -1111111  ┆ Not       ┆ District  ┆ 0         ┆ … ┆ null      ┆ 0         ┆ state     ┆ null     │\n",
       "│           ┆ Available ┆ Panchayat ┆           ┆   ┆           ┆           ┆           ┆          │\n",
       "│ 1         ┆ ANANTNAG  ┆ District  ┆ -1        ┆ … ┆ ANANTNAG  ┆ 1         ┆ state     ┆ 8fdff2d9 │\n",
       "│           ┆           ┆ Panchayat ┆           ┆   ┆           ┆           ┆           ┆ 2a687371 │\n",
       "│           ┆           ┆           ┆           ┆   ┆           ┆           ┆           ┆ 0c2d2f68 │\n",
       "│           ┆           ┆           ┆           ┆   ┆           ┆           ┆           ┆ 7c971674 │\n",
       "│           ┆           ┆           ┆           ┆   ┆           ┆           ┆           ┆ …        │\n",
       "│ 2         ┆ BADGAM    ┆ District  ┆ -1        ┆ … ┆ BADGAM    ┆ 1         ┆ state     ┆ 8fdff2d9 │\n",
       "│           ┆           ┆ Panchayat ┆           ┆   ┆           ┆           ┆           ┆ 2a687371 │\n",
       "│           ┆           ┆           ┆           ┆   ┆           ┆           ┆           ┆ 0c2d2f68 │\n",
       "│           ┆           ┆           ┆           ┆   ┆           ┆           ┆           ┆ 7c971674 │\n",
       "│           ┆           ┆           ┆           ┆   ┆           ┆           ┆           ┆ …        │\n",
       "│ 3         ┆ BARAMULLA ┆ District  ┆ -1        ┆ … ┆ BARAMULLA ┆ 1         ┆ state     ┆ 8fdff2d9 │\n",
       "│           ┆           ┆ Panchayat ┆           ┆   ┆           ┆           ┆           ┆ 2a687371 │\n",
       "│           ┆           ┆           ┆           ┆   ┆           ┆           ┆           ┆ 0c2d2f68 │\n",
       "│           ┆           ┆           ┆           ┆   ┆           ┆           ┆           ┆ 7c971674 │\n",
       "│           ┆           ┆           ┆           ┆   ┆           ┆           ┆           ┆ …        │\n",
       "│ 4         ┆ DODA      ┆ District  ┆ -1        ┆ … ┆ DODA      ┆ 1         ┆ state     ┆ 8fdff2d9 │\n",
       "│           ┆           ┆ Panchayat ┆           ┆   ┆           ┆           ┆           ┆ 2a687371 │\n",
       "│           ┆           ┆           ┆           ┆   ┆           ┆           ┆           ┆ 0c2d2f68 │\n",
       "│           ┆           ┆           ┆           ┆   ┆           ┆           ┆           ┆ 7c971674 │\n",
       "│           ┆           ┆           ┆           ┆   ┆           ┆           ┆           ┆ …        │\n",
       "└───────────┴───────────┴───────────┴───────────┴───┴───────────┴───────────┴───────────┴──────────┘"
      ]
     },
     "metadata": {},
     "output_type": "display_data"
    },
    {
     "name": "stdout",
     "output_type": "stream",
     "text": [
      "panchayats\n"
     ]
    },
    {
     "data": {
      "text/html": [
       "<div><style>\n",
       ".dataframe > thead > tr,\n",
       ".dataframe > tbody > tr {\n",
       "  text-align: right;\n",
       "  white-space: pre-wrap;\n",
       "}\n",
       "</style>\n",
       "<small>shape: (5, 8)</small><table border=\"1\" class=\"dataframe\"><thead><tr><th>entityLGDCode</th><th>entityName</th><th>levelCode</th><th>levelName</th><th>entityNameVariants</th><th>entityParent</th><th>entityParentName</th><th>dataHash</th></tr><tr><td>i64</td><td>str</td><td>i64</td><td>str</td><td>str</td><td>str</td><td>str</td><td>str</td></tr></thead><tbody><tr><td>-1</td><td>&quot;Not Available&quot;</td><td>5</td><td>&quot;Gram Panchayat…</td><td>&quot;ABHIA PACHGACH…</td><td>&quot;0&quot;</td><td>&quot;block&quot;</td><td>null</td></tr><tr><td>204</td><td>&quot;PURBI CHAMPARA…</td><td>5</td><td>&quot;Gram Panchayat…</td><td>&quot;पूर्वी चंपारण&quot;</td><td>&quot;1985&quot;</td><td>&quot;block&quot;</td><td>&quot;ffd9375a1d62a4…</td></tr><tr><td>546</td><td>&quot;TIRUNELVELI&quot;</td><td>5</td><td>&quot;Gram Panchayat…</td><td>&quot;திருநெல்வேலி&quot;</td><td>&quot;6385&quot;</td><td>&quot;block&quot;</td><td>&quot;2fd03f3266eb39…</td></tr><tr><td>566</td><td>&quot;KULGAM&quot;</td><td>5</td><td>&quot;Gram Panchayat…</td><td>&quot;KULGAM&quot;</td><td>&quot;4&quot;</td><td>&quot;block&quot;</td><td>&quot;dc49d2676117dd…</td></tr><tr><td>598</td><td>&quot;QAIMOH&quot;</td><td>5</td><td>&quot;Gram Panchayat…</td><td>&quot;QAIMOH&quot;</td><td>&quot;4&quot;</td><td>&quot;block&quot;</td><td>&quot;dc49d2676117dd…</td></tr></tbody></table></div>"
      ],
      "text/plain": [
       "shape: (5, 8)\n",
       "┌────────────┬────────────┬───────────┬────────────┬───────────┬───────────┬───────────┬───────────┐\n",
       "│ entityLGDC ┆ entityName ┆ levelCode ┆ levelName  ┆ entityNam ┆ entityPar ┆ entityPar ┆ dataHash  │\n",
       "│ ode        ┆ ---        ┆ ---       ┆ ---        ┆ eVariants ┆ ent       ┆ entName   ┆ ---       │\n",
       "│ ---        ┆ str        ┆ i64       ┆ str        ┆ ---       ┆ ---       ┆ ---       ┆ str       │\n",
       "│ i64        ┆            ┆           ┆            ┆ str       ┆ str       ┆ str       ┆           │\n",
       "╞════════════╪════════════╪═══════════╪════════════╪═══════════╪═══════════╪═══════════╪═══════════╡\n",
       "│ -1         ┆ Not        ┆ 5         ┆ Gram       ┆ ABHIA PAC ┆ 0         ┆ block     ┆ null      │\n",
       "│            ┆ Available  ┆           ┆ Panchayats ┆ HGACHHIA, ┆           ┆           ┆           │\n",
       "│            ┆            ┆           ┆            ┆ BABU TOLA ┆           ┆           ┆           │\n",
       "│            ┆            ┆           ┆            ┆ KAM…      ┆           ┆           ┆           │\n",
       "│ 204        ┆ PURBI      ┆ 5         ┆ Gram       ┆ पूर्वी      ┆ 1985      ┆ block     ┆ ffd9375a1 │\n",
       "│            ┆ CHAMPARAN  ┆           ┆ Panchayats ┆ चंपारण     ┆           ┆           ┆ d62a4428c │\n",
       "│            ┆            ┆           ┆            ┆           ┆           ┆           ┆ f8f973033 │\n",
       "│            ┆            ┆           ┆            ┆           ┆           ┆           ┆ 31881…    │\n",
       "│ 546        ┆ TIRUNELVEL ┆ 5         ┆ Gram       ┆ திருநெல்வே ┆ 6385      ┆ block     ┆ 2fd03f326 │\n",
       "│            ┆ I          ┆           ┆ Panchayats ┆ லி        ┆           ┆           ┆ 6eb39a662 │\n",
       "│            ┆            ┆           ┆            ┆           ┆           ┆           ┆ 6c3181fc3 │\n",
       "│            ┆            ┆           ┆            ┆           ┆           ┆           ┆ 15fc6…    │\n",
       "│ 566        ┆ KULGAM     ┆ 5         ┆ Gram       ┆ KULGAM    ┆ 4         ┆ block     ┆ dc49d2676 │\n",
       "│            ┆            ┆           ┆ Panchayats ┆           ┆           ┆           ┆ 117dd712d │\n",
       "│            ┆            ┆           ┆            ┆           ┆           ┆           ┆ 8fa21ad77 │\n",
       "│            ┆            ┆           ┆            ┆           ┆           ┆           ┆ 0c63b…    │\n",
       "│ 598        ┆ QAIMOH     ┆ 5         ┆ Gram       ┆ QAIMOH    ┆ 4         ┆ block     ┆ dc49d2676 │\n",
       "│            ┆            ┆           ┆ Panchayats ┆           ┆           ┆           ┆ 117dd712d │\n",
       "│            ┆            ┆           ┆            ┆           ┆           ┆           ┆ 8fa21ad77 │\n",
       "│            ┆            ┆           ┆            ┆           ┆           ┆           ┆ 0c63b…    │\n",
       "└────────────┴────────────┴───────────┴────────────┴───────────┴───────────┴───────────┴───────────┘"
      ]
     },
     "metadata": {},
     "output_type": "display_data"
    },
    {
     "name": "stdout",
     "output_type": "stream",
     "text": [
      "blocks\n"
     ]
    },
    {
     "data": {
      "text/html": [
       "<div><style>\n",
       ".dataframe > thead > tr,\n",
       ".dataframe > tbody > tr {\n",
       "  text-align: right;\n",
       "  white-space: pre-wrap;\n",
       "}\n",
       "</style>\n",
       "<small>shape: (5, 7)</small><table border=\"1\" class=\"dataframe\"><thead><tr><th>entityLGDCode</th><th>entityName</th><th>levelCode</th><th>levelName</th><th>entityNameVariants</th><th>entityParent</th><th>dataHash</th></tr><tr><td>i64</td><td>str</td><td>i64</td><td>str</td><td>str</td><td>str</td><td>str</td></tr></thead><tbody><tr><td>-1</td><td>&quot;Not Available&quot;</td><td>4</td><td>&quot;block&quot;</td><td>&quot;GORADIH, KODIN…</td><td>&quot;0&quot;</td><td>null</td></tr><tr><td>1</td><td>&quot;ACHABAL&quot;</td><td>4</td><td>&quot;block&quot;</td><td>&quot;&quot;</td><td>&quot;1&quot;</td><td>&quot;0280e23dc80125…</td></tr><tr><td>2</td><td>&quot;BRENG&quot;</td><td>4</td><td>&quot;block&quot;</td><td>&quot;&quot;</td><td>&quot;1&quot;</td><td>&quot;0280e23dc80125…</td></tr><tr><td>3</td><td>&quot;DACHNIPORA&quot;</td><td>4</td><td>&quot;block&quot;</td><td>&quot;&quot;</td><td>&quot;1&quot;</td><td>&quot;0280e23dc80125…</td></tr><tr><td>4</td><td>&quot;DEVSAR&quot;</td><td>4</td><td>&quot;block&quot;</td><td>&quot;&quot;</td><td>&quot;622&quot;</td><td>&quot;2979470e025bfb…</td></tr></tbody></table></div>"
      ],
      "text/plain": [
       "shape: (5, 7)\n",
       "┌──────────────┬──────────────┬───────────┬───────────┬──────────────┬──────────────┬──────────────┐\n",
       "│ entityLGDCod ┆ entityName   ┆ levelCode ┆ levelName ┆ entityNameVa ┆ entityParent ┆ dataHash     │\n",
       "│ e            ┆ ---          ┆ ---       ┆ ---       ┆ riants       ┆ ---          ┆ ---          │\n",
       "│ ---          ┆ str          ┆ i64       ┆ str       ┆ ---          ┆ str          ┆ str          │\n",
       "│ i64          ┆              ┆           ┆           ┆ str          ┆              ┆              │\n",
       "╞══════════════╪══════════════╪═══════════╪═══════════╪══════════════╪══════════════╪══════════════╡\n",
       "│ -1           ┆ Not          ┆ 4         ┆ block     ┆ GORADIH,     ┆ 0            ┆ null         │\n",
       "│              ┆ Available    ┆           ┆           ┆ KODINAR,     ┆              ┆              │\n",
       "│              ┆              ┆           ┆           ┆ Tissa        ┆              ┆              │\n",
       "│ 1            ┆ ACHABAL      ┆ 4         ┆ block     ┆              ┆ 1            ┆ 0280e23dc801 │\n",
       "│              ┆              ┆           ┆           ┆              ┆              ┆ 259a9f2b1b55 │\n",
       "│              ┆              ┆           ┆           ┆              ┆              ┆ c2848a33…    │\n",
       "│ 2            ┆ BRENG        ┆ 4         ┆ block     ┆              ┆ 1            ┆ 0280e23dc801 │\n",
       "│              ┆              ┆           ┆           ┆              ┆              ┆ 259a9f2b1b55 │\n",
       "│              ┆              ┆           ┆           ┆              ┆              ┆ c2848a33…    │\n",
       "│ 3            ┆ DACHNIPORA   ┆ 4         ┆ block     ┆              ┆ 1            ┆ 0280e23dc801 │\n",
       "│              ┆              ┆           ┆           ┆              ┆              ┆ 259a9f2b1b55 │\n",
       "│              ┆              ┆           ┆           ┆              ┆              ┆ c2848a33…    │\n",
       "│ 4            ┆ DEVSAR       ┆ 4         ┆ block     ┆              ┆ 622          ┆ 2979470e025b │\n",
       "│              ┆              ┆           ┆           ┆              ┆              ┆ fbf510fb11ee │\n",
       "│              ┆              ┆           ┆           ┆              ┆              ┆ 6108a8c8…    │\n",
       "└──────────────┴──────────────┴───────────┴───────────┴──────────────┴──────────────┴──────────────┘"
      ]
     },
     "metadata": {},
     "output_type": "display_data"
    },
    {
     "name": "stdout",
     "output_type": "stream",
     "text": [
      "sub_districts\n"
     ]
    },
    {
     "data": {
      "text/html": [
       "<div><style>\n",
       ".dataframe > thead > tr,\n",
       ".dataframe > tbody > tr {\n",
       "  text-align: right;\n",
       "  white-space: pre-wrap;\n",
       "}\n",
       "</style>\n",
       "<small>shape: (5, 11)</small><table border=\"1\" class=\"dataframe\"><thead><tr><th>entityLGDCode</th><th>census2001Code</th><th>census2011Code</th><th>entityName</th><th>levelCode</th><th>levelName</th><th>entityNameVariants</th><th>entityParent</th><th>dataHash</th><th>parliament_constituency</th><th>assembly_constituency</th></tr><tr><td>i64</td><td>str</td><td>str</td><td>str</td><td>i64</td><td>str</td><td>str</td><td>str</td><td>str</td><td>str</td><td>str</td></tr></thead><tbody><tr><td>-1111</td><td>&quot;-1&quot;</td><td>&quot;-1&quot;</td><td>&quot;Not Available&quot;</td><td>0</td><td>&quot;sub_district&quot;</td><td>null</td><td>&quot;0&quot;</td><td>null</td><td>&quot;Not Available&quot;</td><td>&quot;Not Available&quot;</td></tr><tr><td>1</td><td>&quot;1   &quot;</td><td>&quot;00001&quot;</td><td>&quot;Kupwara&quot;</td><td>3</td><td>&quot;sub_district&quot;</td><td>null</td><td>&quot;8&quot;</td><td>&quot;89041d939e2141…</td><td>&quot;Baramulla&quot;</td><td>&quot;Lolab&quot;</td></tr><tr><td>2</td><td>&quot;2   &quot;</td><td>&quot;00002&quot;</td><td>&quot;Handwara&quot;</td><td>3</td><td>&quot;sub_district&quot;</td><td>null</td><td>&quot;8&quot;</td><td>&quot;89041d939e2141…</td><td>&quot;Baramulla&quot;</td><td>&quot;Handwara&quot;</td></tr><tr><td>3</td><td>&quot;3   &quot;</td><td>&quot;00003&quot;</td><td>&quot;Karnah&quot;</td><td>3</td><td>&quot;sub_district&quot;</td><td>null</td><td>&quot;8&quot;</td><td>&quot;89041d939e2141…</td><td>&quot;Baramulla&quot;</td><td>&quot;Karnah&quot;</td></tr><tr><td>4</td><td>&quot;8   &quot;</td><td>&quot;00004&quot;</td><td>&quot;Khag&quot;</td><td>3</td><td>&quot;sub_district&quot;</td><td>null</td><td>&quot;2&quot;</td><td>&quot;075f4c230204af…</td><td>&quot;Srinagar&quot;</td><td>&quot;Beerwah&quot;</td></tr></tbody></table></div>"
      ],
      "text/plain": [
       "shape: (5, 11)\n",
       "┌───────────┬───────────┬───────────┬───────────┬───┬───────────┬───────────┬───────────┬──────────┐\n",
       "│ entityLGD ┆ census200 ┆ census201 ┆ entityNam ┆ … ┆ entityPar ┆ dataHash  ┆ parliamen ┆ assembly │\n",
       "│ Code      ┆ 1Code     ┆ 1Code     ┆ e         ┆   ┆ ent       ┆ ---       ┆ t_constit ┆ _constit │\n",
       "│ ---       ┆ ---       ┆ ---       ┆ ---       ┆   ┆ ---       ┆ str       ┆ uency     ┆ uency    │\n",
       "│ i64       ┆ str       ┆ str       ┆ str       ┆   ┆ str       ┆           ┆ ---       ┆ ---      │\n",
       "│           ┆           ┆           ┆           ┆   ┆           ┆           ┆ str       ┆ str      │\n",
       "╞═══════════╪═══════════╪═══════════╪═══════════╪═══╪═══════════╪═══════════╪═══════════╪══════════╡\n",
       "│ -1111     ┆ -1        ┆ -1        ┆ Not       ┆ … ┆ 0         ┆ null      ┆ Not       ┆ Not Avai │\n",
       "│           ┆           ┆           ┆ Available ┆   ┆           ┆           ┆ Available ┆ lable    │\n",
       "│ 1         ┆ 1         ┆ 00001     ┆ Kupwara   ┆ … ┆ 8         ┆ 89041d939 ┆ Baramulla ┆ Lolab    │\n",
       "│           ┆           ┆           ┆           ┆   ┆           ┆ e214103c9 ┆           ┆          │\n",
       "│           ┆           ┆           ┆           ┆   ┆           ┆ 879fa7690 ┆           ┆          │\n",
       "│           ┆           ┆           ┆           ┆   ┆           ┆ 01a09…    ┆           ┆          │\n",
       "│ 2         ┆ 2         ┆ 00002     ┆ Handwara  ┆ … ┆ 8         ┆ 89041d939 ┆ Baramulla ┆ Handwara │\n",
       "│           ┆           ┆           ┆           ┆   ┆           ┆ e214103c9 ┆           ┆          │\n",
       "│           ┆           ┆           ┆           ┆   ┆           ┆ 879fa7690 ┆           ┆          │\n",
       "│           ┆           ┆           ┆           ┆   ┆           ┆ 01a09…    ┆           ┆          │\n",
       "│ 3         ┆ 3         ┆ 00003     ┆ Karnah    ┆ … ┆ 8         ┆ 89041d939 ┆ Baramulla ┆ Karnah   │\n",
       "│           ┆           ┆           ┆           ┆   ┆           ┆ e214103c9 ┆           ┆          │\n",
       "│           ┆           ┆           ┆           ┆   ┆           ┆ 879fa7690 ┆           ┆          │\n",
       "│           ┆           ┆           ┆           ┆   ┆           ┆ 01a09…    ┆           ┆          │\n",
       "│ 4         ┆ 8         ┆ 00004     ┆ Khag      ┆ … ┆ 2         ┆ 075f4c230 ┆ Srinagar  ┆ Beerwah  │\n",
       "│           ┆           ┆           ┆           ┆   ┆           ┆ 204af128f ┆           ┆          │\n",
       "│           ┆           ┆           ┆           ┆   ┆           ┆ dbe5058f0 ┆           ┆          │\n",
       "│           ┆           ┆           ┆           ┆   ┆           ┆ 888e9…    ┆           ┆          │\n",
       "└───────────┴───────────┴───────────┴───────────┴───┴───────────┴───────────┴───────────┴──────────┘"
      ]
     },
     "metadata": {},
     "output_type": "display_data"
    },
    {
     "name": "stdout",
     "output_type": "stream",
     "text": [
      "districts\n"
     ]
    },
    {
     "data": {
      "text/html": [
       "<div><style>\n",
       ".dataframe > thead > tr,\n",
       ".dataframe > tbody > tr {\n",
       "  text-align: right;\n",
       "  white-space: pre-wrap;\n",
       "}\n",
       "</style>\n",
       "<small>shape: (5, 11)</small><table border=\"1\" class=\"dataframe\"><thead><tr><th>entityLGDCode</th><th>census2001Code</th><th>census2011Code</th><th>entityName</th><th>levelCode</th><th>levelName</th><th>entityNameVariants</th><th>entityParent</th><th>dataHash</th><th>parliament_constituency</th><th>assembly_constituency</th></tr><tr><td>i64</td><td>str</td><td>str</td><td>str</td><td>i64</td><td>str</td><td>str</td><td>str</td><td>str</td><td>str</td><td>str</td></tr></thead><tbody><tr><td>-111</td><td>&quot;000&quot;</td><td>&quot;000&quot;</td><td>&quot;Not Available&quot;</td><td>0</td><td>&quot;District&quot;</td><td>&quot;&quot;</td><td>&quot;0&quot;</td><td>&quot;&quot;</td><td>&quot;Not Available&quot;</td><td>&quot;Not Available&quot;</td></tr><tr><td>1</td><td>&quot;06&quot;</td><td>&quot;014&quot;</td><td>&quot;ANANTNAG&quot;</td><td>2</td><td>&quot;District&quot;</td><td>&quot;ANANTNAG      …</td><td>&quot;1&quot;</td><td>&quot;cc39ac80d2924c…</td><td>&quot;Anantnag&quot;</td><td>&quot;Bijbehara&quot;</td></tr><tr><td>2</td><td>&quot;04&quot;</td><td>&quot;002&quot;</td><td>&quot;Budgam&quot;</td><td>2</td><td>&quot;District&quot;</td><td>&quot;&quot;</td><td>&quot;1&quot;</td><td>&quot;cc39ac80d2924c…</td><td>&quot;Srinagar&quot;</td><td>&quot;Beerwah&quot;</td></tr><tr><td>3</td><td>&quot;02&quot;</td><td>&quot;008&quot;</td><td>&quot;BARAMULLA&quot;</td><td>2</td><td>&quot;District&quot;</td><td>&quot;BARAMULLA     …</td><td>&quot;1&quot;</td><td>&quot;cc39ac80d2924c…</td><td>&quot;Baramulla&quot;</td><td>&quot;Rafiabad&quot;</td></tr><tr><td>4</td><td>&quot;09&quot;</td><td>&quot;016&quot;</td><td>&quot;DODA&quot;</td><td>2</td><td>&quot;District&quot;</td><td>&quot;DODA          …</td><td>&quot;1&quot;</td><td>&quot;cc39ac80d2924c…</td><td>&quot;Udhampur &quot;</td><td>&quot;Ramban&quot;</td></tr></tbody></table></div>"
      ],
      "text/plain": [
       "shape: (5, 11)\n",
       "┌───────────┬───────────┬───────────┬───────────┬───┬───────────┬───────────┬───────────┬──────────┐\n",
       "│ entityLGD ┆ census200 ┆ census201 ┆ entityNam ┆ … ┆ entityPar ┆ dataHash  ┆ parliamen ┆ assembly │\n",
       "│ Code      ┆ 1Code     ┆ 1Code     ┆ e         ┆   ┆ ent       ┆ ---       ┆ t_constit ┆ _constit │\n",
       "│ ---       ┆ ---       ┆ ---       ┆ ---       ┆   ┆ ---       ┆ str       ┆ uency     ┆ uency    │\n",
       "│ i64       ┆ str       ┆ str       ┆ str       ┆   ┆ str       ┆           ┆ ---       ┆ ---      │\n",
       "│           ┆           ┆           ┆           ┆   ┆           ┆           ┆ str       ┆ str      │\n",
       "╞═══════════╪═══════════╪═══════════╪═══════════╪═══╪═══════════╪═══════════╪═══════════╪══════════╡\n",
       "│ -111      ┆ 000       ┆ 000       ┆ Not       ┆ … ┆ 0         ┆           ┆ Not       ┆ Not Avai │\n",
       "│           ┆           ┆           ┆ Available ┆   ┆           ┆           ┆ Available ┆ lable    │\n",
       "│ 1         ┆ 06        ┆ 014       ┆ ANANTNAG  ┆ … ┆ 1         ┆ cc39ac80d ┆ Anantnag  ┆ Bijbehar │\n",
       "│           ┆           ┆           ┆           ┆   ┆           ┆ 2924cc19c ┆           ┆ a        │\n",
       "│           ┆           ┆           ┆           ┆   ┆           ┆ d8465b9f5 ┆           ┆          │\n",
       "│           ┆           ┆           ┆           ┆   ┆           ┆ bd5b8…    ┆           ┆          │\n",
       "│ 2         ┆ 04        ┆ 002       ┆ Budgam    ┆ … ┆ 1         ┆ cc39ac80d ┆ Srinagar  ┆ Beerwah  │\n",
       "│           ┆           ┆           ┆           ┆   ┆           ┆ 2924cc19c ┆           ┆          │\n",
       "│           ┆           ┆           ┆           ┆   ┆           ┆ d8465b9f5 ┆           ┆          │\n",
       "│           ┆           ┆           ┆           ┆   ┆           ┆ bd5b8…    ┆           ┆          │\n",
       "│ 3         ┆ 02        ┆ 008       ┆ BARAMULLA ┆ … ┆ 1         ┆ cc39ac80d ┆ Baramulla ┆ Rafiabad │\n",
       "│           ┆           ┆           ┆           ┆   ┆           ┆ 2924cc19c ┆           ┆          │\n",
       "│           ┆           ┆           ┆           ┆   ┆           ┆ d8465b9f5 ┆           ┆          │\n",
       "│           ┆           ┆           ┆           ┆   ┆           ┆ bd5b8…    ┆           ┆          │\n",
       "│ 4         ┆ 09        ┆ 016       ┆ DODA      ┆ … ┆ 1         ┆ cc39ac80d ┆ Udhampur  ┆ Ramban   │\n",
       "│           ┆           ┆           ┆           ┆   ┆           ┆ 2924cc19c ┆           ┆          │\n",
       "│           ┆           ┆           ┆           ┆   ┆           ┆ d8465b9f5 ┆           ┆          │\n",
       "│           ┆           ┆           ┆           ┆   ┆           ┆ bd5b8…    ┆           ┆          │\n",
       "└───────────┴───────────┴───────────┴───────────┴───┴───────────┴───────────┴───────────┴──────────┘"
      ]
     },
     "metadata": {},
     "output_type": "display_data"
    },
    {
     "name": "stdout",
     "output_type": "stream",
     "text": [
      "states\n"
     ]
    },
    {
     "data": {
      "text/html": [
       "<div><style>\n",
       ".dataframe > thead > tr,\n",
       ".dataframe > tbody > tr {\n",
       "  text-align: right;\n",
       "  white-space: pre-wrap;\n",
       "}\n",
       "</style>\n",
       "<small>shape: (5, 9)</small><table border=\"1\" class=\"dataframe\"><thead><tr><th>entityLGDCode</th><th>census2001Code</th><th>census2011Code</th><th>entityName</th><th>levelCode</th><th>levelName</th><th>entityNameVariants</th><th>entityParent</th><th>dataHash</th></tr><tr><td>i64</td><td>str</td><td>str</td><td>str</td><td>i64</td><td>str</td><td>str</td><td>str</td><td>str</td></tr></thead><tbody><tr><td>1</td><td>&quot;01&quot;</td><td>&quot;01&quot;</td><td>&quot;JAMMU AND KASH…</td><td>1</td><td>&quot;state&quot;</td><td>&quot;&quot;</td><td>&quot;0&quot;</td><td>&quot;76302c6a6bccdf…</td></tr><tr><td>2</td><td>&quot;02&quot;</td><td>&quot;02&quot;</td><td>&quot;HIMACHAL PRADE…</td><td>1</td><td>&quot;state&quot;</td><td>&quot;&quot;</td><td>&quot;0&quot;</td><td>&quot;76302c6a6bccdf…</td></tr><tr><td>3</td><td>&quot;03&quot;</td><td>&quot;03&quot;</td><td>&quot;PUNJAB&quot;</td><td>1</td><td>&quot;state&quot;</td><td>&quot;&quot;</td><td>&quot;0&quot;</td><td>&quot;76302c6a6bccdf…</td></tr><tr><td>4</td><td>&quot;04&quot;</td><td>&quot;04&quot;</td><td>&quot;CHANDIGARH&quot;</td><td>1</td><td>&quot;state&quot;</td><td>&quot;&quot;</td><td>&quot;0&quot;</td><td>&quot;76302c6a6bccdf…</td></tr><tr><td>5</td><td>&quot;05&quot;</td><td>&quot;05&quot;</td><td>&quot;UTTARAKHAND&quot;</td><td>1</td><td>&quot;state&quot;</td><td>&quot;&quot;</td><td>&quot;0&quot;</td><td>&quot;76302c6a6bccdf…</td></tr></tbody></table></div>"
      ],
      "text/plain": [
       "shape: (5, 9)\n",
       "┌───────────┬───────────┬───────────┬───────────┬───┬───────────┬───────────┬───────────┬──────────┐\n",
       "│ entityLGD ┆ census200 ┆ census201 ┆ entityNam ┆ … ┆ levelName ┆ entityNam ┆ entityPar ┆ dataHash │\n",
       "│ Code      ┆ 1Code     ┆ 1Code     ┆ e         ┆   ┆ ---       ┆ eVariants ┆ ent       ┆ ---      │\n",
       "│ ---       ┆ ---       ┆ ---       ┆ ---       ┆   ┆ str       ┆ ---       ┆ ---       ┆ str      │\n",
       "│ i64       ┆ str       ┆ str       ┆ str       ┆   ┆           ┆ str       ┆ str       ┆          │\n",
       "╞═══════════╪═══════════╪═══════════╪═══════════╪═══╪═══════════╪═══════════╪═══════════╪══════════╡\n",
       "│ 1         ┆ 01        ┆ 01        ┆ JAMMU AND ┆ … ┆ state     ┆           ┆ 0         ┆ 76302c6a │\n",
       "│           ┆           ┆           ┆ KASHMIR   ┆   ┆           ┆           ┆           ┆ 6bccdff9 │\n",
       "│           ┆           ┆           ┆           ┆   ┆           ┆           ┆           ┆ e78706ff │\n",
       "│           ┆           ┆           ┆           ┆   ┆           ┆           ┆           ┆ c1b4fdaa │\n",
       "│           ┆           ┆           ┆           ┆   ┆           ┆           ┆           ┆ …        │\n",
       "│ 2         ┆ 02        ┆ 02        ┆ HIMACHAL  ┆ … ┆ state     ┆           ┆ 0         ┆ 76302c6a │\n",
       "│           ┆           ┆           ┆ PRADESH   ┆   ┆           ┆           ┆           ┆ 6bccdff9 │\n",
       "│           ┆           ┆           ┆           ┆   ┆           ┆           ┆           ┆ e78706ff │\n",
       "│           ┆           ┆           ┆           ┆   ┆           ┆           ┆           ┆ c1b4fdaa │\n",
       "│           ┆           ┆           ┆           ┆   ┆           ┆           ┆           ┆ …        │\n",
       "│ 3         ┆ 03        ┆ 03        ┆ PUNJAB    ┆ … ┆ state     ┆           ┆ 0         ┆ 76302c6a │\n",
       "│           ┆           ┆           ┆           ┆   ┆           ┆           ┆           ┆ 6bccdff9 │\n",
       "│           ┆           ┆           ┆           ┆   ┆           ┆           ┆           ┆ e78706ff │\n",
       "│           ┆           ┆           ┆           ┆   ┆           ┆           ┆           ┆ c1b4fdaa │\n",
       "│           ┆           ┆           ┆           ┆   ┆           ┆           ┆           ┆ …        │\n",
       "│ 4         ┆ 04        ┆ 04        ┆ CHANDIGAR ┆ … ┆ state     ┆           ┆ 0         ┆ 76302c6a │\n",
       "│           ┆           ┆           ┆ H         ┆   ┆           ┆           ┆           ┆ 6bccdff9 │\n",
       "│           ┆           ┆           ┆           ┆   ┆           ┆           ┆           ┆ e78706ff │\n",
       "│           ┆           ┆           ┆           ┆   ┆           ┆           ┆           ┆ c1b4fdaa │\n",
       "│           ┆           ┆           ┆           ┆   ┆           ┆           ┆           ┆ …        │\n",
       "│ 5         ┆ 05        ┆ 05        ┆ UTTARAKHA ┆ … ┆ state     ┆           ┆ 0         ┆ 76302c6a │\n",
       "│           ┆           ┆           ┆ ND        ┆   ┆           ┆           ┆           ┆ 6bccdff9 │\n",
       "│           ┆           ┆           ┆           ┆   ┆           ┆           ┆           ┆ e78706ff │\n",
       "│           ┆           ┆           ┆           ┆   ┆           ┆           ┆           ┆ c1b4fdaa │\n",
       "│           ┆           ┆           ┆           ┆   ┆           ┆           ┆           ┆ …        │\n",
       "└───────────┴───────────┴───────────┴───────────┴───┴───────────┴───────────┴───────────┴──────────┘"
      ]
     },
     "metadata": {},
     "output_type": "display_data"
    },
    {
     "name": "stdout",
     "output_type": "stream",
     "text": [
      "constituencies\n"
     ]
    },
    {
     "data": {
      "text/html": [
       "<div><style>\n",
       ".dataframe > thead > tr,\n",
       ".dataframe > tbody > tr {\n",
       "  text-align: right;\n",
       "  white-space: pre-wrap;\n",
       "}\n",
       "</style>\n",
       "<small>shape: (5, 12)</small><table border=\"1\" class=\"dataframe\"><thead><tr><th>parliament_constituency</th><th>assembly_constituency</th><th>district_code</th><th>district_name</th><th>sub_district_code</th><th>sub_district_name</th><th>village_code</th><th>village_name</th><th>local_body_code</th><th>local_body_name</th><th>ward_number</th><th>ward_name</th></tr><tr><td>str</td><td>str</td><td>i64</td><td>str</td><td>i64</td><td>str</td><td>i64</td><td>str</td><td>i64</td><td>str</td><td>f64</td><td>str</td></tr></thead><tbody><tr><td>&quot;Amalapuram&quot;</td><td>&quot;Ramachandrapur…</td><td>746</td><td>&quot;Kakinada&quot;</td><td>4923</td><td>&quot;Kajuluru&quot;</td><td>587620</td><td>&quot;Manjeru&quot;</td><td>199221</td><td>&quot;MANJERU&quot;</td><td>null</td><td>null</td></tr><tr><td>&quot;Amalapuram&quot;</td><td>&quot;Razole&quot;</td><td>747</td><td>&quot;Konaseema&quot;</td><td>4937</td><td>&quot;Razole&quot;</td><td>587835</td><td>&quot;Kadali&quot;</td><td>199754</td><td>&quot;CHENNADAM&quot;</td><td>null</td><td>null</td></tr><tr><td>&quot;Amalapuram&quot;</td><td>&quot;Ramachandrapur…</td><td>747</td><td>&quot;Konaseema&quot;</td><td>0</td><td>null</td><td>0</td><td>null</td><td>251733</td><td>&quot;Ramachandrapur…</td><td>54526.0</td><td>&quot;Ramachandrapur…</td></tr><tr><td>&quot;Amalapuram&quot;</td><td>&quot;Mummidivaram&quot;</td><td>747</td><td>&quot;Konaseema&quot;</td><td>4932</td><td>&quot;Mummidivaram&quot;</td><td>587754</td><td>&quot;Komanapalle&quot;</td><td>199478</td><td>&quot;KOMANAPALLE&quot;</td><td>null</td><td>null</td></tr><tr><td>&quot;Amalapuram&quot;</td><td>&quot;Amalapuram&quot;</td><td>747</td><td>&quot;Konaseema&quot;</td><td>4941</td><td>&quot;Amalapuram&quot;</td><td>587877</td><td>&quot;A. Vemavaram&quot;</td><td>199018</td><td>&quot;A.VEMAVARAM&quot;</td><td>null</td><td>null</td></tr></tbody></table></div>"
      ],
      "text/plain": [
       "shape: (5, 12)\n",
       "┌───────────┬───────────┬───────────┬───────────┬───┬───────────┬───────────┬───────────┬──────────┐\n",
       "│ parliamen ┆ assembly_ ┆ district_ ┆ district_ ┆ … ┆ local_bod ┆ local_bod ┆ ward_numb ┆ ward_nam │\n",
       "│ t_constit ┆ constitue ┆ code      ┆ name      ┆   ┆ y_code    ┆ y_name    ┆ er        ┆ e        │\n",
       "│ uency     ┆ ncy       ┆ ---       ┆ ---       ┆   ┆ ---       ┆ ---       ┆ ---       ┆ ---      │\n",
       "│ ---       ┆ ---       ┆ i64       ┆ str       ┆   ┆ i64       ┆ str       ┆ f64       ┆ str      │\n",
       "│ str       ┆ str       ┆           ┆           ┆   ┆           ┆           ┆           ┆          │\n",
       "╞═══════════╪═══════════╪═══════════╪═══════════╪═══╪═══════════╪═══════════╪═══════════╪══════════╡\n",
       "│ Amalapura ┆ Ramachand ┆ 746       ┆ Kakinada  ┆ … ┆ 199221    ┆ MANJERU   ┆ null      ┆ null     │\n",
       "│ m         ┆ rapuram   ┆           ┆           ┆   ┆           ┆           ┆           ┆          │\n",
       "│ Amalapura ┆ Razole    ┆ 747       ┆ Konaseema ┆ … ┆ 199754    ┆ CHENNADAM ┆ null      ┆ null     │\n",
       "│ m         ┆           ┆           ┆           ┆   ┆           ┆           ┆           ┆          │\n",
       "│ Amalapura ┆ Ramachand ┆ 747       ┆ Konaseema ┆ … ┆ 251733    ┆ Ramachand ┆ 54526.0   ┆ Ramachan │\n",
       "│ m         ┆ rapuram   ┆           ┆           ┆   ┆           ┆ rapuram   ┆           ┆ drapuram │\n",
       "│           ┆           ┆           ┆           ┆   ┆           ┆           ┆           ┆ (M) -    │\n",
       "│           ┆           ┆           ┆           ┆   ┆           ┆           ┆           ┆ Ward     │\n",
       "│           ┆           ┆           ┆           ┆   ┆           ┆           ┆           ┆ No.1…    │\n",
       "│ Amalapura ┆ Mummidiva ┆ 747       ┆ Konaseema ┆ … ┆ 199478    ┆ KOMANAPAL ┆ null      ┆ null     │\n",
       "│ m         ┆ ram       ┆           ┆           ┆   ┆           ┆ LE        ┆           ┆          │\n",
       "│ Amalapura ┆ Amalapura ┆ 747       ┆ Konaseema ┆ … ┆ 199018    ┆ A.VEMAVAR ┆ null      ┆ null     │\n",
       "│ m         ┆ m         ┆           ┆           ┆   ┆           ┆ AM        ┆           ┆          │\n",
       "└───────────┴───────────┴───────────┴───────────┴───┴───────────┴───────────┴───────────┴──────────┘"
      ]
     },
     "metadata": {},
     "output_type": "display_data"
    }
   ],
   "source": [
    "map2lgd_tables = {\n",
    "    \"villages\": villages,\n",
    "    \"local_bodies\": local_bodies,\n",
    "    \"panchayats\": panchayats,\n",
    "    \"blocks\": blocks,\n",
    "    \"sub_districts\": sub_districts,\n",
    "    \"districts\": districts,\n",
    "    \"states\": states,\n",
    "    \"constituencies\": constituencies,\n",
    "}\n",
    "for level, df in map2lgd_tables.items():\n",
    "    print(level)\n",
    "    display(df.head())"
   ]
  },
  {
   "cell_type": "code",
   "execution_count": 10,
   "metadata": {},
   "outputs": [
    {
     "data": {
      "text/plain": [
       "True"
      ]
     },
     "execution_count": 10,
     "metadata": {},
     "output_type": "execute_result"
    }
   ],
   "source": [
    "states.filter(pl.col(\"entityLGDCode\") > 0).height == states.height"
   ]
  },
  {
   "cell_type": "code",
   "execution_count": 11,
   "metadata": {},
   "outputs": [
    {
     "data": {
      "text/html": [
       "<div><style>\n",
       ".dataframe > thead > tr,\n",
       ".dataframe > tbody > tr {\n",
       "  text-align: right;\n",
       "  white-space: pre-wrap;\n",
       "}\n",
       "</style>\n",
       "<small>shape: (1,)</small><table border=\"1\" class=\"dataframe\"><thead><tr><th>entityParent</th></tr><tr><td>str</td></tr></thead><tbody><tr><td>&quot;0&quot;</td></tr></tbody></table></div>"
      ],
      "text/plain": [
       "shape: (1,)\n",
       "Series: 'entityParent' [str]\n",
       "[\n",
       "\t\"0\"\n",
       "]"
      ]
     },
     "execution_count": 11,
     "metadata": {},
     "output_type": "execute_result"
    }
   ],
   "source": [
    "states[\"entityParent\"].unique()"
   ]
  },
  {
   "cell_type": "code",
   "execution_count": 12,
   "metadata": {},
   "outputs": [
    {
     "data": {
      "text/html": [
       "<div><style>\n",
       ".dataframe > thead > tr,\n",
       ".dataframe > tbody > tr {\n",
       "  text-align: right;\n",
       "  white-space: pre-wrap;\n",
       "}\n",
       "</style>\n",
       "<small>shape: (1,)</small><table border=\"1\" class=\"dataframe\"><thead><tr><th>levelName</th></tr><tr><td>str</td></tr></thead><tbody><tr><td>&quot;state&quot;</td></tr></tbody></table></div>"
      ],
      "text/plain": [
       "shape: (1,)\n",
       "Series: 'levelName' [str]\n",
       "[\n",
       "\t\"state\"\n",
       "]"
      ]
     },
     "execution_count": 12,
     "metadata": {},
     "output_type": "execute_result"
    }
   ],
   "source": [
    "states[\"levelName\"].unique()"
   ]
  },
  {
   "cell_type": "code",
   "execution_count": 13,
   "metadata": {},
   "outputs": [
    {
     "data": {
      "text/plain": [
       "[('Karnatak',), ('Andaman & Nicobar Island',), ('UT of DNH and DD',)]"
      ]
     },
     "execution_count": 13,
     "metadata": {},
     "output_type": "execute_result"
    }
   ],
   "source": [
    "states.select(pl.col(\"entityNameVariants\").replace({\"\": None}, default=pl.col(\"entityNameVariants\")).drop_nulls()).rows()"
   ]
  },
  {
   "cell_type": "code",
   "execution_count": 14,
   "metadata": {},
   "outputs": [],
   "source": [
    "india_level = Level(name=\"india\", code=0)\n",
    "state_level = Level(name=\"state\", code=1)\n",
    "with Session(engine) as session:\n",
    "    session.add(india_level)\n",
    "    session.add(state_level)\n",
    "    session.commit()"
   ]
  },
  {
   "cell_type": "code",
   "execution_count": 15,
   "metadata": {},
   "outputs": [
    {
     "name": "stdout",
     "output_type": "stream",
     "text": [
      "[Level(code=0, name='india', id=1), Level(code=1, name='state', id=2)]\n"
     ]
    }
   ],
   "source": [
    "with Session(engine) as session:\n",
    "    statement = select(Level)\n",
    "    print(session.exec(statement).all())"
   ]
  },
  {
   "cell_type": "code",
   "execution_count": 16,
   "metadata": {},
   "outputs": [],
   "source": [
    "def add_vairants(entity_id: int, variants: list[str], session: Session):\n",
    "    for variant_name in variants:\n",
    "        variant = Variation(\n",
    "            name=variant_name.strip().lower(),\n",
    "            entity_id=entity_id\n",
    "        )\n",
    "        session.add(variant)\n",
    "\n",
    "def split_variants(variants: str) -> list[str]:\n",
    "    return list(filter(lambda x: x != \"\", variants.split(\",\")))"
   ]
  },
  {
   "cell_type": "code",
   "execution_count": 17,
   "metadata": {},
   "outputs": [],
   "source": [
    "with Session(engine) as session:\n",
    "    for st_row in states.iter_rows(named=True):\n",
    "        state = Entity(\n",
    "            name=st_row[\"entityName\"].strip().lower(),\n",
    "            code=st_row[\"entityLGDCode\"],\n",
    "            level_id=2\n",
    "        )\n",
    "        session.add(state)\n",
    "        session.commit()\n",
    "        session.refresh(state)\n",
    "        variants = split_variants(st_row[\"entityNameVariants\"])\n",
    "        add_vairants(state.id, variants, session)"
   ]
  },
  {
   "cell_type": "code",
   "execution_count": 18,
   "metadata": {},
   "outputs": [
    {
     "data": {
      "text/html": [
       "<div><style>\n",
       ".dataframe > thead > tr,\n",
       ".dataframe > tbody > tr {\n",
       "  text-align: right;\n",
       "  white-space: pre-wrap;\n",
       "}\n",
       "</style>\n",
       "<small>shape: (5, 11)</small><table border=\"1\" class=\"dataframe\"><thead><tr><th>entityLGDCode</th><th>census2001Code</th><th>census2011Code</th><th>entityName</th><th>levelCode</th><th>levelName</th><th>entityNameVariants</th><th>entityParent</th><th>dataHash</th><th>parliament_constituency</th><th>assembly_constituency</th></tr><tr><td>i64</td><td>str</td><td>str</td><td>str</td><td>i64</td><td>str</td><td>str</td><td>str</td><td>str</td><td>str</td><td>str</td></tr></thead><tbody><tr><td>-111</td><td>&quot;000&quot;</td><td>&quot;000&quot;</td><td>&quot;Not Available&quot;</td><td>0</td><td>&quot;District&quot;</td><td>&quot;&quot;</td><td>&quot;0&quot;</td><td>&quot;&quot;</td><td>&quot;Not Available&quot;</td><td>&quot;Not Available&quot;</td></tr><tr><td>1</td><td>&quot;06&quot;</td><td>&quot;014&quot;</td><td>&quot;ANANTNAG&quot;</td><td>2</td><td>&quot;District&quot;</td><td>&quot;ANANTNAG      …</td><td>&quot;1&quot;</td><td>&quot;cc39ac80d2924c…</td><td>&quot;Anantnag&quot;</td><td>&quot;Bijbehara&quot;</td></tr><tr><td>2</td><td>&quot;04&quot;</td><td>&quot;002&quot;</td><td>&quot;Budgam&quot;</td><td>2</td><td>&quot;District&quot;</td><td>&quot;&quot;</td><td>&quot;1&quot;</td><td>&quot;cc39ac80d2924c…</td><td>&quot;Srinagar&quot;</td><td>&quot;Beerwah&quot;</td></tr><tr><td>3</td><td>&quot;02&quot;</td><td>&quot;008&quot;</td><td>&quot;BARAMULLA&quot;</td><td>2</td><td>&quot;District&quot;</td><td>&quot;BARAMULLA     …</td><td>&quot;1&quot;</td><td>&quot;cc39ac80d2924c…</td><td>&quot;Baramulla&quot;</td><td>&quot;Rafiabad&quot;</td></tr><tr><td>4</td><td>&quot;09&quot;</td><td>&quot;016&quot;</td><td>&quot;DODA&quot;</td><td>2</td><td>&quot;District&quot;</td><td>&quot;DODA          …</td><td>&quot;1&quot;</td><td>&quot;cc39ac80d2924c…</td><td>&quot;Udhampur &quot;</td><td>&quot;Ramban&quot;</td></tr></tbody></table></div>"
      ],
      "text/plain": [
       "shape: (5, 11)\n",
       "┌───────────┬───────────┬───────────┬───────────┬───┬───────────┬───────────┬───────────┬──────────┐\n",
       "│ entityLGD ┆ census200 ┆ census201 ┆ entityNam ┆ … ┆ entityPar ┆ dataHash  ┆ parliamen ┆ assembly │\n",
       "│ Code      ┆ 1Code     ┆ 1Code     ┆ e         ┆   ┆ ent       ┆ ---       ┆ t_constit ┆ _constit │\n",
       "│ ---       ┆ ---       ┆ ---       ┆ ---       ┆   ┆ ---       ┆ str       ┆ uency     ┆ uency    │\n",
       "│ i64       ┆ str       ┆ str       ┆ str       ┆   ┆ str       ┆           ┆ ---       ┆ ---      │\n",
       "│           ┆           ┆           ┆           ┆   ┆           ┆           ┆ str       ┆ str      │\n",
       "╞═══════════╪═══════════╪═══════════╪═══════════╪═══╪═══════════╪═══════════╪═══════════╪══════════╡\n",
       "│ -111      ┆ 000       ┆ 000       ┆ Not       ┆ … ┆ 0         ┆           ┆ Not       ┆ Not Avai │\n",
       "│           ┆           ┆           ┆ Available ┆   ┆           ┆           ┆ Available ┆ lable    │\n",
       "│ 1         ┆ 06        ┆ 014       ┆ ANANTNAG  ┆ … ┆ 1         ┆ cc39ac80d ┆ Anantnag  ┆ Bijbehar │\n",
       "│           ┆           ┆           ┆           ┆   ┆           ┆ 2924cc19c ┆           ┆ a        │\n",
       "│           ┆           ┆           ┆           ┆   ┆           ┆ d8465b9f5 ┆           ┆          │\n",
       "│           ┆           ┆           ┆           ┆   ┆           ┆ bd5b8…    ┆           ┆          │\n",
       "│ 2         ┆ 04        ┆ 002       ┆ Budgam    ┆ … ┆ 1         ┆ cc39ac80d ┆ Srinagar  ┆ Beerwah  │\n",
       "│           ┆           ┆           ┆           ┆   ┆           ┆ 2924cc19c ┆           ┆          │\n",
       "│           ┆           ┆           ┆           ┆   ┆           ┆ d8465b9f5 ┆           ┆          │\n",
       "│           ┆           ┆           ┆           ┆   ┆           ┆ bd5b8…    ┆           ┆          │\n",
       "│ 3         ┆ 02        ┆ 008       ┆ BARAMULLA ┆ … ┆ 1         ┆ cc39ac80d ┆ Baramulla ┆ Rafiabad │\n",
       "│           ┆           ┆           ┆           ┆   ┆           ┆ 2924cc19c ┆           ┆          │\n",
       "│           ┆           ┆           ┆           ┆   ┆           ┆ d8465b9f5 ┆           ┆          │\n",
       "│           ┆           ┆           ┆           ┆   ┆           ┆ bd5b8…    ┆           ┆          │\n",
       "│ 4         ┆ 09        ┆ 016       ┆ DODA      ┆ … ┆ 1         ┆ cc39ac80d ┆ Udhampur  ┆ Ramban   │\n",
       "│           ┆           ┆           ┆           ┆   ┆           ┆ 2924cc19c ┆           ┆          │\n",
       "│           ┆           ┆           ┆           ┆   ┆           ┆ d8465b9f5 ┆           ┆          │\n",
       "│           ┆           ┆           ┆           ┆   ┆           ┆ bd5b8…    ┆           ┆          │\n",
       "└───────────┴───────────┴───────────┴───────────┴───┴───────────┴───────────┴───────────┴──────────┘"
      ]
     },
     "execution_count": 18,
     "metadata": {},
     "output_type": "execute_result"
    }
   ],
   "source": [
    "districts.head()"
   ]
  },
  {
   "cell_type": "code",
   "execution_count": 19,
   "metadata": {},
   "outputs": [],
   "source": [
    "district_level = Level(name=\"district\", code=2)\n",
    "with Session(engine) as session:\n",
    "    session.add(district_level)\n",
    "    session.commit()"
   ]
  },
  {
   "cell_type": "code",
   "execution_count": 20,
   "metadata": {},
   "outputs": [],
   "source": [
    "districts = districts.filter(pl.col(\"entityLGDCode\") > 0).with_columns(pl.col(\"entityParent\").cast(pl.Int64)) \n",
    "with Session(engine) as session:\n",
    "    for row in districts.iter_rows(named=True):\n",
    "        district = Entity(\n",
    "            name=row[\"entityName\"].strip().lower(),\n",
    "            code=row[\"entityLGDCode\"],\n",
    "            level_id=3\n",
    "        )\n",
    "        session.add(district)\n",
    "        session.commit()\n",
    "        session.refresh(district)\n",
    "        str_variants = row[\"entityNameVariants\"]\n",
    "        if isinstance(str_variants, str):\n",
    "            variants = split_variants(str_variants)\n",
    "            add_vairants(district.id, variants, session)\n",
    "        state = session.exec(select(Entity).where(Entity.code == row[\"entityParent\"]).where(Entity.level_id == 2)).first()\n",
    "        if state is None:\n",
    "            raise Exception(f\"StateNotFound: {str(row)}\")\n",
    "        admin_link = AdminHierarchy(entity_id=state.id, child_id=district.id)\n",
    "        session.add(admin_link)\n",
    "        session.commit()"
   ]
  },
  {
   "cell_type": "code",
   "execution_count": 23,
   "metadata": {},
   "outputs": [
    {
     "data": {
      "text/html": [
       "<div><style>\n",
       ".dataframe > thead > tr,\n",
       ".dataframe > tbody > tr {\n",
       "  text-align: right;\n",
       "  white-space: pre-wrap;\n",
       "}\n",
       "</style>\n",
       "<small>shape: (5, 11)</small><table border=\"1\" class=\"dataframe\"><thead><tr><th>entityLGDCode</th><th>census2001Code</th><th>census2011Code</th><th>entityName</th><th>levelCode</th><th>levelName</th><th>entityNameVariants</th><th>entityParent</th><th>dataHash</th><th>parliament_constituency</th><th>assembly_constituency</th></tr><tr><td>i64</td><td>str</td><td>str</td><td>str</td><td>i64</td><td>str</td><td>str</td><td>i64</td><td>str</td><td>str</td><td>str</td></tr></thead><tbody><tr><td>1</td><td>&quot;1   &quot;</td><td>&quot;00001&quot;</td><td>&quot;Kupwara&quot;</td><td>3</td><td>&quot;sub_district&quot;</td><td>null</td><td>8</td><td>&quot;89041d939e2141…</td><td>&quot;Baramulla&quot;</td><td>&quot;Lolab&quot;</td></tr><tr><td>2</td><td>&quot;2   &quot;</td><td>&quot;00002&quot;</td><td>&quot;Handwara&quot;</td><td>3</td><td>&quot;sub_district&quot;</td><td>null</td><td>8</td><td>&quot;89041d939e2141…</td><td>&quot;Baramulla&quot;</td><td>&quot;Handwara&quot;</td></tr><tr><td>3</td><td>&quot;3   &quot;</td><td>&quot;00003&quot;</td><td>&quot;Karnah&quot;</td><td>3</td><td>&quot;sub_district&quot;</td><td>null</td><td>8</td><td>&quot;89041d939e2141…</td><td>&quot;Baramulla&quot;</td><td>&quot;Karnah&quot;</td></tr><tr><td>4</td><td>&quot;8   &quot;</td><td>&quot;00004&quot;</td><td>&quot;Khag&quot;</td><td>3</td><td>&quot;sub_district&quot;</td><td>null</td><td>2</td><td>&quot;075f4c230204af…</td><td>&quot;Srinagar&quot;</td><td>&quot;Beerwah&quot;</td></tr><tr><td>5</td><td>&quot;1   &quot;</td><td>&quot;00005&quot;</td><td>&quot;Beerwah&quot;</td><td>3</td><td>&quot;sub_district&quot;</td><td>null</td><td>2</td><td>&quot;075f4c230204af…</td><td>&quot;Srinagar&quot;</td><td>&quot;Beerwah&quot;</td></tr></tbody></table></div>"
      ],
      "text/plain": [
       "shape: (5, 11)\n",
       "┌───────────┬───────────┬───────────┬───────────┬───┬───────────┬───────────┬───────────┬──────────┐\n",
       "│ entityLGD ┆ census200 ┆ census201 ┆ entityNam ┆ … ┆ entityPar ┆ dataHash  ┆ parliamen ┆ assembly │\n",
       "│ Code      ┆ 1Code     ┆ 1Code     ┆ e         ┆   ┆ ent       ┆ ---       ┆ t_constit ┆ _constit │\n",
       "│ ---       ┆ ---       ┆ ---       ┆ ---       ┆   ┆ ---       ┆ str       ┆ uency     ┆ uency    │\n",
       "│ i64       ┆ str       ┆ str       ┆ str       ┆   ┆ i64       ┆           ┆ ---       ┆ ---      │\n",
       "│           ┆           ┆           ┆           ┆   ┆           ┆           ┆ str       ┆ str      │\n",
       "╞═══════════╪═══════════╪═══════════╪═══════════╪═══╪═══════════╪═══════════╪═══════════╪══════════╡\n",
       "│ 1         ┆ 1         ┆ 00001     ┆ Kupwara   ┆ … ┆ 8         ┆ 89041d939 ┆ Baramulla ┆ Lolab    │\n",
       "│           ┆           ┆           ┆           ┆   ┆           ┆ e214103c9 ┆           ┆          │\n",
       "│           ┆           ┆           ┆           ┆   ┆           ┆ 879fa7690 ┆           ┆          │\n",
       "│           ┆           ┆           ┆           ┆   ┆           ┆ 01a09…    ┆           ┆          │\n",
       "│ 2         ┆ 2         ┆ 00002     ┆ Handwara  ┆ … ┆ 8         ┆ 89041d939 ┆ Baramulla ┆ Handwara │\n",
       "│           ┆           ┆           ┆           ┆   ┆           ┆ e214103c9 ┆           ┆          │\n",
       "│           ┆           ┆           ┆           ┆   ┆           ┆ 879fa7690 ┆           ┆          │\n",
       "│           ┆           ┆           ┆           ┆   ┆           ┆ 01a09…    ┆           ┆          │\n",
       "│ 3         ┆ 3         ┆ 00003     ┆ Karnah    ┆ … ┆ 8         ┆ 89041d939 ┆ Baramulla ┆ Karnah   │\n",
       "│           ┆           ┆           ┆           ┆   ┆           ┆ e214103c9 ┆           ┆          │\n",
       "│           ┆           ┆           ┆           ┆   ┆           ┆ 879fa7690 ┆           ┆          │\n",
       "│           ┆           ┆           ┆           ┆   ┆           ┆ 01a09…    ┆           ┆          │\n",
       "│ 4         ┆ 8         ┆ 00004     ┆ Khag      ┆ … ┆ 2         ┆ 075f4c230 ┆ Srinagar  ┆ Beerwah  │\n",
       "│           ┆           ┆           ┆           ┆   ┆           ┆ 204af128f ┆           ┆          │\n",
       "│           ┆           ┆           ┆           ┆   ┆           ┆ dbe5058f0 ┆           ┆          │\n",
       "│           ┆           ┆           ┆           ┆   ┆           ┆ 888e9…    ┆           ┆          │\n",
       "│ 5         ┆ 1         ┆ 00005     ┆ Beerwah   ┆ … ┆ 2         ┆ 075f4c230 ┆ Srinagar  ┆ Beerwah  │\n",
       "│           ┆           ┆           ┆           ┆   ┆           ┆ 204af128f ┆           ┆          │\n",
       "│           ┆           ┆           ┆           ┆   ┆           ┆ dbe5058f0 ┆           ┆          │\n",
       "│           ┆           ┆           ┆           ┆   ┆           ┆ 888e9…    ┆           ┆          │\n",
       "└───────────┴───────────┴───────────┴───────────┴───┴───────────┴───────────┴───────────┴──────────┘"
      ]
     },
     "execution_count": 23,
     "metadata": {},
     "output_type": "execute_result"
    }
   ],
   "source": [
    "sub_districts.head()"
   ]
  },
  {
   "cell_type": "code",
   "execution_count": 21,
   "metadata": {},
   "outputs": [],
   "source": [
    "sub_district_level = Level(name=\"sub_district\", code=3)\n",
    "with Session(engine) as session:\n",
    "    session.add(sub_district_level)\n",
    "    session.commit()"
   ]
  },
  {
   "cell_type": "code",
   "execution_count": 22,
   "metadata": {},
   "outputs": [],
   "source": [
    "sub_districts = sub_districts.filter(pl.col(\"entityLGDCode\") > 0).with_columns(pl.col(\"entityParent\").cast(pl.Int64)) \n",
    "with Session(engine) as session:\n",
    "    for row in sub_districts.iter_rows(named=True):\n",
    "        sub_district = Entity(\n",
    "            name=row[\"entityName\"].strip().lower(),\n",
    "            code=row[\"entityLGDCode\"],\n",
    "            level_id=4\n",
    "        )\n",
    "        session.add(sub_district)\n",
    "        session.commit()\n",
    "        session.refresh(sub_district)\n",
    "        str_variants = row[\"entityNameVariants\"]\n",
    "        if isinstance(str_variants, str):\n",
    "            variants = split_variants(str_variants)\n",
    "            add_vairants(sub_district.id, variants, session)\n",
    "        district = session.exec(select(Entity).where(Entity.code == row[\"entityParent\"]).where(Entity.level_id == 3)).first()\n",
    "        if district is None:\n",
    "            raise Exception(f\"DistrictNotFound: {str(row)}\")\n",
    "        admin_link = AdminHierarchy(entity_id=district.id, child_id=sub_district.id)\n",
    "        session.add(admin_link)\n",
    "        session.commit()"
   ]
  },
  {
   "cell_type": "code",
   "execution_count": 28,
   "metadata": {},
   "outputs": [],
   "source": [
    "block_level = Level(name=\"block\", code=4)\n",
    "with Session(engine) as session:\n",
    "    session.add(block_level)\n",
    "    session.commit()"
   ]
  },
  {
   "cell_type": "code",
   "execution_count": 27,
   "metadata": {},
   "outputs": [
    {
     "data": {
      "text/html": [
       "<div><style>\n",
       ".dataframe > thead > tr,\n",
       ".dataframe > tbody > tr {\n",
       "  text-align: right;\n",
       "  white-space: pre-wrap;\n",
       "}\n",
       "</style>\n",
       "<small>shape: (5, 7)</small><table border=\"1\" class=\"dataframe\"><thead><tr><th>entityLGDCode</th><th>entityName</th><th>levelCode</th><th>levelName</th><th>entityNameVariants</th><th>entityParent</th><th>dataHash</th></tr><tr><td>i64</td><td>str</td><td>i64</td><td>str</td><td>str</td><td>str</td><td>str</td></tr></thead><tbody><tr><td>-1</td><td>&quot;Not Available&quot;</td><td>4</td><td>&quot;block&quot;</td><td>&quot;GORADIH, KODIN…</td><td>&quot;0&quot;</td><td>null</td></tr><tr><td>1</td><td>&quot;ACHABAL&quot;</td><td>4</td><td>&quot;block&quot;</td><td>&quot;&quot;</td><td>&quot;1&quot;</td><td>&quot;0280e23dc80125…</td></tr><tr><td>2</td><td>&quot;BRENG&quot;</td><td>4</td><td>&quot;block&quot;</td><td>&quot;&quot;</td><td>&quot;1&quot;</td><td>&quot;0280e23dc80125…</td></tr><tr><td>3</td><td>&quot;DACHNIPORA&quot;</td><td>4</td><td>&quot;block&quot;</td><td>&quot;&quot;</td><td>&quot;1&quot;</td><td>&quot;0280e23dc80125…</td></tr><tr><td>4</td><td>&quot;DEVSAR&quot;</td><td>4</td><td>&quot;block&quot;</td><td>&quot;&quot;</td><td>&quot;622&quot;</td><td>&quot;2979470e025bfb…</td></tr></tbody></table></div>"
      ],
      "text/plain": [
       "shape: (5, 7)\n",
       "┌──────────────┬──────────────┬───────────┬───────────┬──────────────┬──────────────┬──────────────┐\n",
       "│ entityLGDCod ┆ entityName   ┆ levelCode ┆ levelName ┆ entityNameVa ┆ entityParent ┆ dataHash     │\n",
       "│ e            ┆ ---          ┆ ---       ┆ ---       ┆ riants       ┆ ---          ┆ ---          │\n",
       "│ ---          ┆ str          ┆ i64       ┆ str       ┆ ---          ┆ str          ┆ str          │\n",
       "│ i64          ┆              ┆           ┆           ┆ str          ┆              ┆              │\n",
       "╞══════════════╪══════════════╪═══════════╪═══════════╪══════════════╪══════════════╪══════════════╡\n",
       "│ -1           ┆ Not          ┆ 4         ┆ block     ┆ GORADIH,     ┆ 0            ┆ null         │\n",
       "│              ┆ Available    ┆           ┆           ┆ KODINAR,     ┆              ┆              │\n",
       "│              ┆              ┆           ┆           ┆ Tissa        ┆              ┆              │\n",
       "│ 1            ┆ ACHABAL      ┆ 4         ┆ block     ┆              ┆ 1            ┆ 0280e23dc801 │\n",
       "│              ┆              ┆           ┆           ┆              ┆              ┆ 259a9f2b1b55 │\n",
       "│              ┆              ┆           ┆           ┆              ┆              ┆ c2848a33…    │\n",
       "│ 2            ┆ BRENG        ┆ 4         ┆ block     ┆              ┆ 1            ┆ 0280e23dc801 │\n",
       "│              ┆              ┆           ┆           ┆              ┆              ┆ 259a9f2b1b55 │\n",
       "│              ┆              ┆           ┆           ┆              ┆              ┆ c2848a33…    │\n",
       "│ 3            ┆ DACHNIPORA   ┆ 4         ┆ block     ┆              ┆ 1            ┆ 0280e23dc801 │\n",
       "│              ┆              ┆           ┆           ┆              ┆              ┆ 259a9f2b1b55 │\n",
       "│              ┆              ┆           ┆           ┆              ┆              ┆ c2848a33…    │\n",
       "│ 4            ┆ DEVSAR       ┆ 4         ┆ block     ┆              ┆ 622          ┆ 2979470e025b │\n",
       "│              ┆              ┆           ┆           ┆              ┆              ┆ fbf510fb11ee │\n",
       "│              ┆              ┆           ┆           ┆              ┆              ┆ 6108a8c8…    │\n",
       "└──────────────┴──────────────┴───────────┴───────────┴──────────────┴──────────────┴──────────────┘"
      ]
     },
     "execution_count": 27,
     "metadata": {},
     "output_type": "execute_result"
    }
   ],
   "source": [
    "blocks.head()"
   ]
  },
  {
   "cell_type": "code",
   "execution_count": 29,
   "metadata": {},
   "outputs": [],
   "source": [
    "blocks = blocks.with_columns(pl.col(\"entityParent\").cast(pl.Int64)).filter(pl.col(\"entityLGDCode\") > 0)#.join(districts, right_on=\"entityLGDCode\", left_on=\"entityParent\")\n",
    "with Session(engine) as session:\n",
    "    for row in blocks.iter_rows(named=True):\n",
    "        block = Entity(\n",
    "            name=row[\"entityName\"].strip().lower(),\n",
    "            code=row[\"entityLGDCode\"],\n",
    "            level_id=4\n",
    "        )\n",
    "        session.add(block)\n",
    "        session.commit()\n",
    "        session.refresh(block)\n",
    "        str_variants = row[\"entityNameVariants\"]\n",
    "        if isinstance(str_variants, str):\n",
    "            variants = split_variants(str_variants)\n",
    "            add_vairants(block.id, variants, session)\n",
    "        district = session.exec(select(Entity).where(Entity.code == row[\"entityParent\"]).where(Entity.level_id == 3)).first()\n",
    "        if district is None:\n",
    "            raise Exception(f\"DistrictNotFound: {str(row)}\")\n",
    "        admin_link = AdminHierarchy(entity_id=district.id, child_id=block.id)\n",
    "        session.add(admin_link)\n",
    "        session.commit()"
   ]
  },
  {
   "cell_type": "code",
   "execution_count": 30,
   "metadata": {},
   "outputs": [
    {
     "data": {
      "text/html": [
       "<div><style>\n",
       ".dataframe > thead > tr,\n",
       ".dataframe > tbody > tr {\n",
       "  text-align: right;\n",
       "  white-space: pre-wrap;\n",
       "}\n",
       "</style>\n",
       "<small>shape: (1,)</small><table border=\"1\" class=\"dataframe\"><thead><tr><th>entityParentName</th></tr><tr><td>str</td></tr></thead><tbody><tr><td>&quot;block&quot;</td></tr></tbody></table></div>"
      ],
      "text/plain": [
       "shape: (1,)\n",
       "Series: 'entityParentName' [str]\n",
       "[\n",
       "\t\"block\"\n",
       "]"
      ]
     },
     "execution_count": 30,
     "metadata": {},
     "output_type": "execute_result"
    }
   ],
   "source": [
    "panchayats[\"entityParentName\"].unique()"
   ]
  },
  {
   "cell_type": "code",
   "execution_count": 32,
   "metadata": {},
   "outputs": [],
   "source": [
    "panchayat_level = Level(name=\"panchayat\", code=5)\n",
    "with Session(engine) as session:\n",
    "    session.add(panchayat_level)\n",
    "    session.commit()"
   ]
  },
  {
   "cell_type": "code",
   "execution_count": 31,
   "metadata": {},
   "outputs": [
    {
     "data": {
      "text/html": [
       "<div><style>\n",
       ".dataframe > thead > tr,\n",
       ".dataframe > tbody > tr {\n",
       "  text-align: right;\n",
       "  white-space: pre-wrap;\n",
       "}\n",
       "</style>\n",
       "<small>shape: (5, 8)</small><table border=\"1\" class=\"dataframe\"><thead><tr><th>entityLGDCode</th><th>entityName</th><th>levelCode</th><th>levelName</th><th>entityNameVariants</th><th>entityParent</th><th>entityParentName</th><th>dataHash</th></tr><tr><td>i64</td><td>str</td><td>i64</td><td>str</td><td>str</td><td>str</td><td>str</td><td>str</td></tr></thead><tbody><tr><td>-1</td><td>&quot;Not Available&quot;</td><td>5</td><td>&quot;Gram Panchayat…</td><td>&quot;ABHIA PACHGACH…</td><td>&quot;0&quot;</td><td>&quot;block&quot;</td><td>null</td></tr><tr><td>204</td><td>&quot;PURBI CHAMPARA…</td><td>5</td><td>&quot;Gram Panchayat…</td><td>&quot;पूर्वी चंपारण&quot;</td><td>&quot;1985&quot;</td><td>&quot;block&quot;</td><td>&quot;ffd9375a1d62a4…</td></tr><tr><td>546</td><td>&quot;TIRUNELVELI&quot;</td><td>5</td><td>&quot;Gram Panchayat…</td><td>&quot;திருநெல்வேலி&quot;</td><td>&quot;6385&quot;</td><td>&quot;block&quot;</td><td>&quot;2fd03f3266eb39…</td></tr><tr><td>566</td><td>&quot;KULGAM&quot;</td><td>5</td><td>&quot;Gram Panchayat…</td><td>&quot;KULGAM&quot;</td><td>&quot;4&quot;</td><td>&quot;block&quot;</td><td>&quot;dc49d2676117dd…</td></tr><tr><td>598</td><td>&quot;QAIMOH&quot;</td><td>5</td><td>&quot;Gram Panchayat…</td><td>&quot;QAIMOH&quot;</td><td>&quot;4&quot;</td><td>&quot;block&quot;</td><td>&quot;dc49d2676117dd…</td></tr></tbody></table></div>"
      ],
      "text/plain": [
       "shape: (5, 8)\n",
       "┌────────────┬────────────┬───────────┬────────────┬───────────┬───────────┬───────────┬───────────┐\n",
       "│ entityLGDC ┆ entityName ┆ levelCode ┆ levelName  ┆ entityNam ┆ entityPar ┆ entityPar ┆ dataHash  │\n",
       "│ ode        ┆ ---        ┆ ---       ┆ ---        ┆ eVariants ┆ ent       ┆ entName   ┆ ---       │\n",
       "│ ---        ┆ str        ┆ i64       ┆ str        ┆ ---       ┆ ---       ┆ ---       ┆ str       │\n",
       "│ i64        ┆            ┆           ┆            ┆ str       ┆ str       ┆ str       ┆           │\n",
       "╞════════════╪════════════╪═══════════╪════════════╪═══════════╪═══════════╪═══════════╪═══════════╡\n",
       "│ -1         ┆ Not        ┆ 5         ┆ Gram       ┆ ABHIA PAC ┆ 0         ┆ block     ┆ null      │\n",
       "│            ┆ Available  ┆           ┆ Panchayats ┆ HGACHHIA, ┆           ┆           ┆           │\n",
       "│            ┆            ┆           ┆            ┆ BABU TOLA ┆           ┆           ┆           │\n",
       "│            ┆            ┆           ┆            ┆ KAM…      ┆           ┆           ┆           │\n",
       "│ 204        ┆ PURBI      ┆ 5         ┆ Gram       ┆ पूर्वी      ┆ 1985      ┆ block     ┆ ffd9375a1 │\n",
       "│            ┆ CHAMPARAN  ┆           ┆ Panchayats ┆ चंपारण     ┆           ┆           ┆ d62a4428c │\n",
       "│            ┆            ┆           ┆            ┆           ┆           ┆           ┆ f8f973033 │\n",
       "│            ┆            ┆           ┆            ┆           ┆           ┆           ┆ 31881…    │\n",
       "│ 546        ┆ TIRUNELVEL ┆ 5         ┆ Gram       ┆ திருநெல்வே ┆ 6385      ┆ block     ┆ 2fd03f326 │\n",
       "│            ┆ I          ┆           ┆ Panchayats ┆ லி        ┆           ┆           ┆ 6eb39a662 │\n",
       "│            ┆            ┆           ┆            ┆           ┆           ┆           ┆ 6c3181fc3 │\n",
       "│            ┆            ┆           ┆            ┆           ┆           ┆           ┆ 15fc6…    │\n",
       "│ 566        ┆ KULGAM     ┆ 5         ┆ Gram       ┆ KULGAM    ┆ 4         ┆ block     ┆ dc49d2676 │\n",
       "│            ┆            ┆           ┆ Panchayats ┆           ┆           ┆           ┆ 117dd712d │\n",
       "│            ┆            ┆           ┆            ┆           ┆           ┆           ┆ 8fa21ad77 │\n",
       "│            ┆            ┆           ┆            ┆           ┆           ┆           ┆ 0c63b…    │\n",
       "│ 598        ┆ QAIMOH     ┆ 5         ┆ Gram       ┆ QAIMOH    ┆ 4         ┆ block     ┆ dc49d2676 │\n",
       "│            ┆            ┆           ┆ Panchayats ┆           ┆           ┆           ┆ 117dd712d │\n",
       "│            ┆            ┆           ┆            ┆           ┆           ┆           ┆ 8fa21ad77 │\n",
       "│            ┆            ┆           ┆            ┆           ┆           ┆           ┆ 0c63b…    │\n",
       "└────────────┴────────────┴───────────┴────────────┴───────────┴───────────┴───────────┴───────────┘"
      ]
     },
     "execution_count": 31,
     "metadata": {},
     "output_type": "execute_result"
    }
   ],
   "source": [
    "panchayats.head()"
   ]
  },
  {
   "cell_type": "code",
   "execution_count": 33,
   "metadata": {},
   "outputs": [],
   "source": [
    "panchayats = panchayats.with_columns(pl.col(\"entityParent\").cast(pl.Int64)).filter(pl.col(\"entityLGDCode\") > 0)#.join(districts, right_on=\"entityLGDCode\", left_on=\"entityParent\")\n",
    "with Session(engine) as session:\n",
    "    for row in panchayats.iter_rows(named=True):\n",
    "        panchayat = Entity(\n",
    "            name=row[\"entityName\"].strip().lower(),\n",
    "            code=row[\"entityLGDCode\"],\n",
    "            level_id=5\n",
    "        )\n",
    "        session.add(panchayat)\n",
    "        session.commit()\n",
    "        session.refresh(panchayat)\n",
    "        str_variants = row[\"entityNameVariants\"]\n",
    "        if isinstance(str_variants, str):\n",
    "            variants = split_variants(str_variants)\n",
    "            add_vairants(panchayat.id, variants, session)\n",
    "        block = session.exec(select(Entity).where(Entity.code == row[\"entityParent\"]).where(Entity.level_id == 4)).first()\n",
    "        if block is None:\n",
    "            raise Exception(f\"BlockNotFound: {str(row)}\")\n",
    "        admin_link = AdminHierarchy(entity_id=block.id, child_id=panchayat.id)\n",
    "        session.add(admin_link)\n",
    "        session.commit()"
   ]
  }
 ],
 "metadata": {
  "kernelspec": {
   "display_name": ".venv",
   "language": "python",
   "name": "python3"
  },
  "language_info": {
   "codemirror_mode": {
    "name": "ipython",
    "version": 3
   },
   "file_extension": ".py",
   "mimetype": "text/x-python",
   "name": "python",
   "nbconvert_exporter": "python",
   "pygments_lexer": "ipython3",
   "version": "3.11.6"
  }
 },
 "nbformat": 4,
 "nbformat_minor": 2
}
